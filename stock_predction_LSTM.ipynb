{
 "cells": [
  {
   "cell_type": "code",
   "execution_count": 2,
   "id": "06f84ebd",
   "metadata": {},
   "outputs": [],
   "source": [
    "import numpy as np\n",
    "import pandas as pd\n",
    "import matplotlib.pyplot as plt\n",
    "import pandas_datareader as data\n",
    "\n",
    "#For Date\n",
    "from datetime import date"
   ]
  },
  {
   "cell_type": "code",
   "execution_count": null,
   "id": "2ab85bec",
   "metadata": {},
   "outputs": [],
   "source": []
  },
  {
   "cell_type": "code",
   "execution_count": 13,
   "id": "9df851b3",
   "metadata": {},
   "outputs": [
    {
     "data": {
      "text/html": [
       "<div>\n",
       "<style scoped>\n",
       "    .dataframe tbody tr th:only-of-type {\n",
       "        vertical-align: middle;\n",
       "    }\n",
       "\n",
       "    .dataframe tbody tr th {\n",
       "        vertical-align: top;\n",
       "    }\n",
       "\n",
       "    .dataframe thead th {\n",
       "        text-align: right;\n",
       "    }\n",
       "</style>\n",
       "<table border=\"1\" class=\"dataframe\">\n",
       "  <thead>\n",
       "    <tr style=\"text-align: right;\">\n",
       "      <th></th>\n",
       "      <th>High</th>\n",
       "      <th>Low</th>\n",
       "      <th>Open</th>\n",
       "      <th>Close</th>\n",
       "      <th>Volume</th>\n",
       "      <th>Adj Close</th>\n",
       "    </tr>\n",
       "    <tr>\n",
       "      <th>Date</th>\n",
       "      <th></th>\n",
       "      <th></th>\n",
       "      <th></th>\n",
       "      <th></th>\n",
       "      <th></th>\n",
       "      <th></th>\n",
       "    </tr>\n",
       "  </thead>\n",
       "  <tbody>\n",
       "    <tr>\n",
       "      <th>2010-12-31</th>\n",
       "      <td>11.552857</td>\n",
       "      <td>11.475357</td>\n",
       "      <td>11.533929</td>\n",
       "      <td>11.520000</td>\n",
       "      <td>193508000.0</td>\n",
       "      <td>9.891260</td>\n",
       "    </tr>\n",
       "    <tr>\n",
       "      <th>2011-01-03</th>\n",
       "      <td>11.795000</td>\n",
       "      <td>11.601429</td>\n",
       "      <td>11.630000</td>\n",
       "      <td>11.770357</td>\n",
       "      <td>445138400.0</td>\n",
       "      <td>10.106223</td>\n",
       "    </tr>\n",
       "    <tr>\n",
       "      <th>2011-01-04</th>\n",
       "      <td>11.875000</td>\n",
       "      <td>11.719643</td>\n",
       "      <td>11.872857</td>\n",
       "      <td>11.831786</td>\n",
       "      <td>309080800.0</td>\n",
       "      <td>10.158967</td>\n",
       "    </tr>\n",
       "    <tr>\n",
       "      <th>2011-01-05</th>\n",
       "      <td>11.940714</td>\n",
       "      <td>11.767857</td>\n",
       "      <td>11.769643</td>\n",
       "      <td>11.928571</td>\n",
       "      <td>255519600.0</td>\n",
       "      <td>10.242066</td>\n",
       "    </tr>\n",
       "    <tr>\n",
       "      <th>2011-01-06</th>\n",
       "      <td>11.973214</td>\n",
       "      <td>11.889286</td>\n",
       "      <td>11.954286</td>\n",
       "      <td>11.918929</td>\n",
       "      <td>300428800.0</td>\n",
       "      <td>10.233788</td>\n",
       "    </tr>\n",
       "  </tbody>\n",
       "</table>\n",
       "</div>"
      ],
      "text/plain": [
       "                 High        Low       Open      Close       Volume  Adj Close\n",
       "Date                                                                          \n",
       "2010-12-31  11.552857  11.475357  11.533929  11.520000  193508000.0   9.891260\n",
       "2011-01-03  11.795000  11.601429  11.630000  11.770357  445138400.0  10.106223\n",
       "2011-01-04  11.875000  11.719643  11.872857  11.831786  309080800.0  10.158967\n",
       "2011-01-05  11.940714  11.767857  11.769643  11.928571  255519600.0  10.242066\n",
       "2011-01-06  11.973214  11.889286  11.954286  11.918929  300428800.0  10.233788"
      ]
     },
     "execution_count": 13,
     "metadata": {},
     "output_type": "execute_result"
    }
   ],
   "source": [
    "start = '2011-01-01'\n",
    "end = date.today()\n",
    "#print(end)\n",
    "\n",
    "df = data.DataReader('AAPL', 'yahoo', start, end)\n",
    "df.head()"
   ]
  },
  {
   "cell_type": "code",
   "execution_count": null,
   "id": "338beea4",
   "metadata": {},
   "outputs": [],
   "source": []
  },
  {
   "cell_type": "code",
   "execution_count": 15,
   "id": "05dcb3d2",
   "metadata": {},
   "outputs": [
    {
     "data": {
      "text/html": [
       "<div>\n",
       "<style scoped>\n",
       "    .dataframe tbody tr th:only-of-type {\n",
       "        vertical-align: middle;\n",
       "    }\n",
       "\n",
       "    .dataframe tbody tr th {\n",
       "        vertical-align: top;\n",
       "    }\n",
       "\n",
       "    .dataframe thead th {\n",
       "        text-align: right;\n",
       "    }\n",
       "</style>\n",
       "<table border=\"1\" class=\"dataframe\">\n",
       "  <thead>\n",
       "    <tr style=\"text-align: right;\">\n",
       "      <th></th>\n",
       "      <th>index</th>\n",
       "      <th>Date</th>\n",
       "      <th>High</th>\n",
       "      <th>Low</th>\n",
       "      <th>Open</th>\n",
       "      <th>Close</th>\n",
       "      <th>Volume</th>\n",
       "      <th>Adj Close</th>\n",
       "    </tr>\n",
       "  </thead>\n",
       "  <tbody>\n",
       "    <tr>\n",
       "      <th>0</th>\n",
       "      <td>0</td>\n",
       "      <td>2010-12-31</td>\n",
       "      <td>11.552857</td>\n",
       "      <td>11.475357</td>\n",
       "      <td>11.533929</td>\n",
       "      <td>11.520000</td>\n",
       "      <td>193508000.0</td>\n",
       "      <td>9.891260</td>\n",
       "    </tr>\n",
       "    <tr>\n",
       "      <th>1</th>\n",
       "      <td>1</td>\n",
       "      <td>2011-01-03</td>\n",
       "      <td>11.795000</td>\n",
       "      <td>11.601429</td>\n",
       "      <td>11.630000</td>\n",
       "      <td>11.770357</td>\n",
       "      <td>445138400.0</td>\n",
       "      <td>10.106223</td>\n",
       "    </tr>\n",
       "    <tr>\n",
       "      <th>2</th>\n",
       "      <td>2</td>\n",
       "      <td>2011-01-04</td>\n",
       "      <td>11.875000</td>\n",
       "      <td>11.719643</td>\n",
       "      <td>11.872857</td>\n",
       "      <td>11.831786</td>\n",
       "      <td>309080800.0</td>\n",
       "      <td>10.158967</td>\n",
       "    </tr>\n",
       "    <tr>\n",
       "      <th>3</th>\n",
       "      <td>3</td>\n",
       "      <td>2011-01-05</td>\n",
       "      <td>11.940714</td>\n",
       "      <td>11.767857</td>\n",
       "      <td>11.769643</td>\n",
       "      <td>11.928571</td>\n",
       "      <td>255519600.0</td>\n",
       "      <td>10.242066</td>\n",
       "    </tr>\n",
       "    <tr>\n",
       "      <th>4</th>\n",
       "      <td>4</td>\n",
       "      <td>2011-01-06</td>\n",
       "      <td>11.973214</td>\n",
       "      <td>11.889286</td>\n",
       "      <td>11.954286</td>\n",
       "      <td>11.918929</td>\n",
       "      <td>300428800.0</td>\n",
       "      <td>10.233788</td>\n",
       "    </tr>\n",
       "  </tbody>\n",
       "</table>\n",
       "</div>"
      ],
      "text/plain": [
       "   index       Date       High        Low       Open      Close       Volume  \\\n",
       "0      0 2010-12-31  11.552857  11.475357  11.533929  11.520000  193508000.0   \n",
       "1      1 2011-01-03  11.795000  11.601429  11.630000  11.770357  445138400.0   \n",
       "2      2 2011-01-04  11.875000  11.719643  11.872857  11.831786  309080800.0   \n",
       "3      3 2011-01-05  11.940714  11.767857  11.769643  11.928571  255519600.0   \n",
       "4      4 2011-01-06  11.973214  11.889286  11.954286  11.918929  300428800.0   \n",
       "\n",
       "   Adj Close  \n",
       "0   9.891260  \n",
       "1  10.106223  \n",
       "2  10.158967  \n",
       "3  10.242066  \n",
       "4  10.233788  "
      ]
     },
     "execution_count": 15,
     "metadata": {},
     "output_type": "execute_result"
    }
   ],
   "source": [
    "df = df.reset_index()\n",
    "df.head()"
   ]
  },
  {
   "cell_type": "code",
   "execution_count": null,
   "id": "1ff3bb6d",
   "metadata": {},
   "outputs": [],
   "source": []
  },
  {
   "cell_type": "code",
   "execution_count": null,
   "id": "1dd6a138",
   "metadata": {},
   "outputs": [],
   "source": []
  },
  {
   "cell_type": "code",
   "execution_count": 16,
   "id": "61b0c9b7",
   "metadata": {},
   "outputs": [
    {
     "data": {
      "text/html": [
       "<div>\n",
       "<style scoped>\n",
       "    .dataframe tbody tr th:only-of-type {\n",
       "        vertical-align: middle;\n",
       "    }\n",
       "\n",
       "    .dataframe tbody tr th {\n",
       "        vertical-align: top;\n",
       "    }\n",
       "\n",
       "    .dataframe thead th {\n",
       "        text-align: right;\n",
       "    }\n",
       "</style>\n",
       "<table border=\"1\" class=\"dataframe\">\n",
       "  <thead>\n",
       "    <tr style=\"text-align: right;\">\n",
       "      <th></th>\n",
       "      <th>index</th>\n",
       "      <th>High</th>\n",
       "      <th>Low</th>\n",
       "      <th>Open</th>\n",
       "      <th>Close</th>\n",
       "      <th>Volume</th>\n",
       "    </tr>\n",
       "  </thead>\n",
       "  <tbody>\n",
       "    <tr>\n",
       "      <th>0</th>\n",
       "      <td>0</td>\n",
       "      <td>11.552857</td>\n",
       "      <td>11.475357</td>\n",
       "      <td>11.533929</td>\n",
       "      <td>11.520000</td>\n",
       "      <td>193508000.0</td>\n",
       "    </tr>\n",
       "    <tr>\n",
       "      <th>1</th>\n",
       "      <td>1</td>\n",
       "      <td>11.795000</td>\n",
       "      <td>11.601429</td>\n",
       "      <td>11.630000</td>\n",
       "      <td>11.770357</td>\n",
       "      <td>445138400.0</td>\n",
       "    </tr>\n",
       "    <tr>\n",
       "      <th>2</th>\n",
       "      <td>2</td>\n",
       "      <td>11.875000</td>\n",
       "      <td>11.719643</td>\n",
       "      <td>11.872857</td>\n",
       "      <td>11.831786</td>\n",
       "      <td>309080800.0</td>\n",
       "    </tr>\n",
       "    <tr>\n",
       "      <th>3</th>\n",
       "      <td>3</td>\n",
       "      <td>11.940714</td>\n",
       "      <td>11.767857</td>\n",
       "      <td>11.769643</td>\n",
       "      <td>11.928571</td>\n",
       "      <td>255519600.0</td>\n",
       "    </tr>\n",
       "    <tr>\n",
       "      <th>4</th>\n",
       "      <td>4</td>\n",
       "      <td>11.973214</td>\n",
       "      <td>11.889286</td>\n",
       "      <td>11.954286</td>\n",
       "      <td>11.918929</td>\n",
       "      <td>300428800.0</td>\n",
       "    </tr>\n",
       "  </tbody>\n",
       "</table>\n",
       "</div>"
      ],
      "text/plain": [
       "   index       High        Low       Open      Close       Volume\n",
       "0      0  11.552857  11.475357  11.533929  11.520000  193508000.0\n",
       "1      1  11.795000  11.601429  11.630000  11.770357  445138400.0\n",
       "2      2  11.875000  11.719643  11.872857  11.831786  309080800.0\n",
       "3      3  11.940714  11.767857  11.769643  11.928571  255519600.0\n",
       "4      4  11.973214  11.889286  11.954286  11.918929  300428800.0"
      ]
     },
     "execution_count": 16,
     "metadata": {},
     "output_type": "execute_result"
    }
   ],
   "source": [
    "df = df.drop(['Date', 'Adj Close'], axis = 1)\n",
    "df.head()"
   ]
  },
  {
   "cell_type": "code",
   "execution_count": null,
   "id": "d51de5cd",
   "metadata": {},
   "outputs": [],
   "source": []
  },
  {
   "cell_type": "code",
   "execution_count": 17,
   "id": "75354b86",
   "metadata": {},
   "outputs": [
    {
     "data": {
      "text/plain": [
       "[<matplotlib.lines.Line2D at 0x7fd782cbee20>]"
      ]
     },
     "execution_count": 17,
     "metadata": {},
     "output_type": "execute_result"
    },
    {
     "data": {
      "image/png": "[encoded data removed]",
      "text/plain": [
       "<Figure size 432x288 with 1 Axes>"
      ]
     },
     "metadata": {
      "needs_background": "light"
     },
     "output_type": "display_data"
    }
   ],
   "source": [
    "plt.plot(df.Close)"
   ]
  },
  {
   "cell_type": "code",
   "execution_count": 18,
   "id": "5bd7dbfd",
   "metadata": {},
   "outputs": [
    {
     "data": {
      "text/html": [
       "<div>\n",
       "<style scoped>\n",
       "    .dataframe tbody tr th:only-of-type {\n",
       "        vertical-align: middle;\n",
       "    }\n",
       "\n",
       "    .dataframe tbody tr th {\n",
       "        vertical-align: top;\n",
       "    }\n",
       "\n",
       "    .dataframe thead th {\n",
       "        text-align: right;\n",
       "    }\n",
       "</style>\n",
       "<table border=\"1\" class=\"dataframe\">\n",
       "  <thead>\n",
       "    <tr style=\"text-align: right;\">\n",
       "      <th></th>\n",
       "      <th>index</th>\n",
       "      <th>High</th>\n",
       "      <th>Low</th>\n",
       "      <th>Open</th>\n",
       "      <th>Close</th>\n",
       "      <th>Volume</th>\n",
       "    </tr>\n",
       "  </thead>\n",
       "  <tbody>\n",
       "    <tr>\n",
       "      <th>0</th>\n",
       "      <td>0</td>\n",
       "      <td>11.552857</td>\n",
       "      <td>11.475357</td>\n",
       "      <td>11.533929</td>\n",
       "      <td>11.520000</td>\n",
       "      <td>193508000.0</td>\n",
       "    </tr>\n",
       "    <tr>\n",
       "      <th>1</th>\n",
       "      <td>1</td>\n",
       "      <td>11.795000</td>\n",
       "      <td>11.601429</td>\n",
       "      <td>11.630000</td>\n",
       "      <td>11.770357</td>\n",
       "      <td>445138400.0</td>\n",
       "    </tr>\n",
       "    <tr>\n",
       "      <th>2</th>\n",
       "      <td>2</td>\n",
       "      <td>11.875000</td>\n",
       "      <td>11.719643</td>\n",
       "      <td>11.872857</td>\n",
       "      <td>11.831786</td>\n",
       "      <td>309080800.0</td>\n",
       "    </tr>\n",
       "    <tr>\n",
       "      <th>3</th>\n",
       "      <td>3</td>\n",
       "      <td>11.940714</td>\n",
       "      <td>11.767857</td>\n",
       "      <td>11.769643</td>\n",
       "      <td>11.928571</td>\n",
       "      <td>255519600.0</td>\n",
       "    </tr>\n",
       "    <tr>\n",
       "      <th>4</th>\n",
       "      <td>4</td>\n",
       "      <td>11.973214</td>\n",
       "      <td>11.889286</td>\n",
       "      <td>11.954286</td>\n",
       "      <td>11.918929</td>\n",
       "      <td>300428800.0</td>\n",
       "    </tr>\n",
       "    <tr>\n",
       "      <th>...</th>\n",
       "      <td>...</td>\n",
       "      <td>...</td>\n",
       "      <td>...</td>\n",
       "      <td>...</td>\n",
       "      <td>...</td>\n",
       "      <td>...</td>\n",
       "    </tr>\n",
       "    <tr>\n",
       "      <th>2713</th>\n",
       "      <td>2713</td>\n",
       "      <td>143.250000</td>\n",
       "      <td>141.039993</td>\n",
       "      <td>143.229996</td>\n",
       "      <td>141.509995</td>\n",
       "      <td>73035900.0</td>\n",
       "    </tr>\n",
       "    <tr>\n",
       "      <th>2714</th>\n",
       "      <td>2714</td>\n",
       "      <td>141.399994</td>\n",
       "      <td>139.199997</td>\n",
       "      <td>141.240005</td>\n",
       "      <td>140.910004</td>\n",
       "      <td>78762700.0</td>\n",
       "    </tr>\n",
       "    <tr>\n",
       "      <th>2715</th>\n",
       "      <td>2715</td>\n",
       "      <td>143.880005</td>\n",
       "      <td>141.509995</td>\n",
       "      <td>142.110001</td>\n",
       "      <td>143.759995</td>\n",
       "      <td>69907100.0</td>\n",
       "    </tr>\n",
       "    <tr>\n",
       "      <th>2716</th>\n",
       "      <td>2716</td>\n",
       "      <td>144.899994</td>\n",
       "      <td>143.509995</td>\n",
       "      <td>143.770004</td>\n",
       "      <td>144.839996</td>\n",
       "      <td>67885200.0</td>\n",
       "    </tr>\n",
       "    <tr>\n",
       "      <th>2717</th>\n",
       "      <td>2717</td>\n",
       "      <td>146.054993</td>\n",
       "      <td>143.160004</td>\n",
       "      <td>143.445007</td>\n",
       "      <td>145.824997</td>\n",
       "      <td>56189893.0</td>\n",
       "    </tr>\n",
       "  </tbody>\n",
       "</table>\n",
       "<p>2718 rows × 6 columns</p>\n",
       "</div>"
      ],
      "text/plain": [
       "      index        High         Low        Open       Close       Volume\n",
       "0         0   11.552857   11.475357   11.533929   11.520000  193508000.0\n",
       "1         1   11.795000   11.601429   11.630000   11.770357  445138400.0\n",
       "2         2   11.875000   11.719643   11.872857   11.831786  309080800.0\n",
       "3         3   11.940714   11.767857   11.769643   11.928571  255519600.0\n",
       "4         4   11.973214   11.889286   11.954286   11.918929  300428800.0\n",
       "...     ...         ...         ...         ...         ...          ...\n",
       "2713   2713  143.250000  141.039993  143.229996  141.509995   73035900.0\n",
       "2714   2714  141.399994  139.199997  141.240005  140.910004   78762700.0\n",
       "2715   2715  143.880005  141.509995  142.110001  143.759995   69907100.0\n",
       "2716   2716  144.899994  143.509995  143.770004  144.839996   67885200.0\n",
       "2717   2717  146.054993  143.160004  143.445007  145.824997   56189893.0\n",
       "\n",
       "[2718 rows x 6 columns]"
      ]
     },
     "execution_count": 18,
     "metadata": {},
     "output_type": "execute_result"
    }
   ],
   "source": [
    "df"
   ]
  },
  {
   "cell_type": "code",
   "execution_count": 19,
   "id": "00a1f108",
   "metadata": {},
   "outputs": [
    {
     "data": {
      "text/plain": [
       "0             NaN\n",
       "1             NaN\n",
       "2             NaN\n",
       "3             NaN\n",
       "4             NaN\n",
       "          ...    \n",
       "2713    141.72940\n",
       "2714    141.88420\n",
       "2715    142.05080\n",
       "2716    142.23020\n",
       "2717    142.41995\n",
       "Name: Close, Length: 2718, dtype: float64"
      ]
     },
     "execution_count": 19,
     "metadata": {},
     "output_type": "execute_result"
    }
   ],
   "source": [
    "ma100 = df.Close.rolling(100).mean() #What does rolling() function do?\n",
    "ma100"
   ]
  },
  {
   "cell_type": "code",
   "execution_count": 20,
   "id": "6e2f0b38",
   "metadata": {},
   "outputs": [
    {
     "data": {
      "text/plain": [
       "[<matplotlib.lines.Line2D at 0x7fd782c0ac70>]"
      ]
     },
     "execution_count": 20,
     "metadata": {},
     "output_type": "execute_result"
    },
    {
     "data": {
      "image/png": "[encoded data removed]",
      "text/plain": [
       "<Figure size 864x432 with 1 Axes>"
      ]
     },
     "metadata": {
      "needs_background": "light"
     },
     "output_type": "display_data"
    }
   ],
   "source": [
    "plt.figure(figsize = (12,6))\n",
    "plt.plot(df.Close)\n",
    "plt.plot(ma100, 'r')"
   ]
  },
  {
   "cell_type": "code",
   "execution_count": 21,
   "id": "3060d9ae",
   "metadata": {},
   "outputs": [
    {
     "data": {
      "text/plain": [
       "0              NaN\n",
       "1              NaN\n",
       "2              NaN\n",
       "3              NaN\n",
       "4              NaN\n",
       "           ...    \n",
       "2713    135.441650\n",
       "2714    135.462750\n",
       "2715    135.507200\n",
       "2716    135.562800\n",
       "2717    135.628475\n",
       "Name: Close, Length: 2718, dtype: float64"
      ]
     },
     "execution_count": 21,
     "metadata": {},
     "output_type": "execute_result"
    }
   ],
   "source": [
    "ma200 = df.Close.rolling(200).mean()\n",
    "ma200"
   ]
  },
  {
   "cell_type": "code",
   "execution_count": 22,
   "id": "dd68e920",
   "metadata": {},
   "outputs": [
    {
     "data": {
      "text/plain": [
       "[<matplotlib.lines.Line2D at 0x7fd782b8f130>]"
      ]
     },
     "execution_count": 22,
     "metadata": {},
     "output_type": "execute_result"
    },
    {
     "data": {
      "image/png": "[encoded data removed]",
      "text/plain": [
       "<Figure size 864x432 with 1 Axes>"
      ]
     },
     "metadata": {
      "needs_background": "light"
     },
     "output_type": "display_data"
    }
   ],
   "source": [
    "plt.figure(figsize = (12,6))\n",
    "plt.plot(df.Close)\n",
    "plt.plot(ma100, 'r')\n",
    "plt.plot(ma200, 'g')"
   ]
  },
  {
   "cell_type": "code",
   "execution_count": 23,
   "id": "239e660b",
   "metadata": {},
   "outputs": [
    {
     "data": {
      "text/plain": [
       "(2718, 6)"
      ]
     },
     "execution_count": 23,
     "metadata": {},
     "output_type": "execute_result"
    }
   ],
   "source": [
    "df.shape"
   ]
  },
  {
   "cell_type": "code",
   "execution_count": 24,
   "id": "7f7e9b6f",
   "metadata": {},
   "outputs": [
    {
     "name": "stdout",
     "output_type": "stream",
     "text": [
      "(1902, 1)\n",
      "(816, 1)\n"
     ]
    }
   ],
   "source": [
    "#Splitting data into Training and Testing\n",
    "\n",
    "data_training = pd.DataFrame(df['Close'][0:int(len(df)*0.70)])\n",
    "data_testing = pd.DataFrame(df['Close'][int(len(df)*0.70):int(len(df))])\n",
    "\n",
    "print(data_training.shape)\n",
    "print(data_testing.shape)\n",
    "                                        "
   ]
  },
  {
   "cell_type": "code",
   "execution_count": 25,
   "id": "d5bef80c",
   "metadata": {},
   "outputs": [
    {
     "data": {
      "text/html": [
       "<div>\n",
       "<style scoped>\n",
       "    .dataframe tbody tr th:only-of-type {\n",
       "        vertical-align: middle;\n",
       "    }\n",
       "\n",
       "    .dataframe tbody tr th {\n",
       "        vertical-align: top;\n",
       "    }\n",
       "\n",
       "    .dataframe thead th {\n",
       "        text-align: right;\n",
       "    }\n",
       "</style>\n",
       "<table border=\"1\" class=\"dataframe\">\n",
       "  <thead>\n",
       "    <tr style=\"text-align: right;\">\n",
       "      <th></th>\n",
       "      <th>Close</th>\n",
       "    </tr>\n",
       "  </thead>\n",
       "  <tbody>\n",
       "    <tr>\n",
       "      <th>0</th>\n",
       "      <td>11.520000</td>\n",
       "    </tr>\n",
       "    <tr>\n",
       "      <th>1</th>\n",
       "      <td>11.770357</td>\n",
       "    </tr>\n",
       "    <tr>\n",
       "      <th>2</th>\n",
       "      <td>11.831786</td>\n",
       "    </tr>\n",
       "    <tr>\n",
       "      <th>3</th>\n",
       "      <td>11.928571</td>\n",
       "    </tr>\n",
       "    <tr>\n",
       "      <th>4</th>\n",
       "      <td>11.918929</td>\n",
       "    </tr>\n",
       "  </tbody>\n",
       "</table>\n",
       "</div>"
      ],
      "text/plain": [
       "       Close\n",
       "0  11.520000\n",
       "1  11.770357\n",
       "2  11.831786\n",
       "3  11.928571\n",
       "4  11.918929"
      ]
     },
     "execution_count": 25,
     "metadata": {},
     "output_type": "execute_result"
    }
   ],
   "source": [
    "data_training.head()"
   ]
  },
  {
   "cell_type": "code",
   "execution_count": 26,
   "id": "2bc43dee",
   "metadata": {},
   "outputs": [
    {
     "data": {
      "text/html": [
       "<div>\n",
       "<style scoped>\n",
       "    .dataframe tbody tr th:only-of-type {\n",
       "        vertical-align: middle;\n",
       "    }\n",
       "\n",
       "    .dataframe tbody tr th {\n",
       "        vertical-align: top;\n",
       "    }\n",
       "\n",
       "    .dataframe thead th {\n",
       "        text-align: right;\n",
       "    }\n",
       "</style>\n",
       "<table border=\"1\" class=\"dataframe\">\n",
       "  <thead>\n",
       "    <tr style=\"text-align: right;\">\n",
       "      <th></th>\n",
       "      <th>Close</th>\n",
       "    </tr>\n",
       "  </thead>\n",
       "  <tbody>\n",
       "    <tr>\n",
       "      <th>1902</th>\n",
       "      <td>48.250000</td>\n",
       "    </tr>\n",
       "    <tr>\n",
       "      <th>1903</th>\n",
       "      <td>48.705002</td>\n",
       "    </tr>\n",
       "    <tr>\n",
       "      <th>1904</th>\n",
       "      <td>48.552502</td>\n",
       "    </tr>\n",
       "    <tr>\n",
       "      <th>1905</th>\n",
       "      <td>47.744999</td>\n",
       "    </tr>\n",
       "    <tr>\n",
       "      <th>1906</th>\n",
       "      <td>47.477501</td>\n",
       "    </tr>\n",
       "  </tbody>\n",
       "</table>\n",
       "</div>"
      ],
      "text/plain": [
       "          Close\n",
       "1902  48.250000\n",
       "1903  48.705002\n",
       "1904  48.552502\n",
       "1905  47.744999\n",
       "1906  47.477501"
      ]
     },
     "execution_count": 26,
     "metadata": {},
     "output_type": "execute_result"
    }
   ],
   "source": [
    "data_testing.head()"
   ]
  },
  {
   "cell_type": "code",
   "execution_count": 27,
   "id": "b16b8c22",
   "metadata": {},
   "outputs": [],
   "source": [
    "from sklearn.preprocessing import MinMaxScaler\n",
    "scaler = MinMaxScaler(feature_range=(0,1))"
   ]
  },
  {
   "cell_type": "code",
   "execution_count": 5,
   "id": "59ed909d",
   "metadata": {},
   "outputs": [
    {
     "ename": "NameError",
     "evalue": "name 'scaler' is not defined",
     "output_type": "error",
     "traceback": [
      "\u001b[0;31m---------------------------------------------------------------------------\u001b[0m",
      "\u001b[0;31mNameError\u001b[0m                                 Traceback (most recent call last)",
      "\u001b[0;32m<ipython-input-5-f0c1cec05d8d>\u001b[0m in \u001b[0;36m<module>\u001b[0;34m\u001b[0m\n\u001b[0;32m----> 1\u001b[0;31m \u001b[0mdata_training_array\u001b[0m \u001b[0;34m=\u001b[0m \u001b[0mscaler\u001b[0m\u001b[0;34m.\u001b[0m\u001b[0mfit_transform\u001b[0m\u001b[0;34m(\u001b[0m\u001b[0mdata_training\u001b[0m\u001b[0;34m)\u001b[0m\u001b[0;34m\u001b[0m\u001b[0;34m\u001b[0m\u001b[0m\n\u001b[0m\u001b[1;32m      2\u001b[0m \u001b[0mdata_training_array\u001b[0m\u001b[0;34m\u001b[0m\u001b[0;34m\u001b[0m\u001b[0m\n",
      "\u001b[0;31mNameError\u001b[0m: name 'scaler' is not defined"
     ]
    }
   ],
   "source": [
    "data_training_array = scaler.fit_transform(data_training)\n",
    "data_training_array"
   ]
  },
  {
   "cell_type": "code",
   "execution_count": 53,
   "id": "85f2d55f",
   "metadata": {},
   "outputs": [],
   "source": [
    "x_train = []\n",
    "y_train = []\n",
    "\n",
    "for i in range(100, data_training.shape[0]):\n",
    "    x_train.append(data_training_array[i-100: i])\n",
    "    y_train.append(data_training_array[i,0])\n",
    "    \n",
    "x_train\n",
    "    \n",
    "x_train, y_train = np.array(x_train), np.array(y_train)"
   ]
  },
  {
   "cell_type": "code",
   "execution_count": 9,
   "id": "3c6fdeb4",
   "metadata": {},
   "outputs": [],
   "source": [
    "#ML model"
   ]
  },
  {
   "cell_type": "code",
   "execution_count": 54,
   "id": "56022474",
   "metadata": {},
   "outputs": [],
   "source": [
    "from keras.layers import Dense, Dropout, LSTM\n",
    "from keras.models import Sequential\n",
    "\n",
    "model = Sequential()\n",
    "model.add(LSTM(units = 50, activation = 'relu', return_sequences = True,\n",
    "              input_shape = (x_train.shape[1],1)))\n",
    "\n",
    "model.add(Dropout(0.2))\n",
    "\n",
    "model.add(LSTM(units = 60, activation = 'relu', return_sequences = True))\n",
    "model.add(Dropout(0.3))\n",
    "\n",
    "model.add(LSTM(units = 80, activation = 'relu', return_sequences = True))\n",
    "model.add(Dropout(0.4))\n",
    "\n",
    "model.add(LSTM(units = 120, activation = 'relu'))\n",
    "model.add(Dropout(0.5))\n",
    "\n",
    "\n",
    "\n",
    "model.add(Dense(units = 1))"
   ]
  },
  {
   "cell_type": "code",
   "execution_count": 55,
   "id": "bddb1fa4",
   "metadata": {},
   "outputs": [
    {
     "name": "stdout",
     "output_type": "stream",
     "text": [
      "Model: \"sequential_3\"\n",
      "_________________________________________________________________\n",
      "Layer (type)                 Output Shape              Param #   \n",
      "=================================================================\n",
      "lstm_8 (LSTM)                (None, 100, 50)           10400     \n",
      "_________________________________________________________________\n",
      "dropout_8 (Dropout)          (None, 100, 50)           0         \n",
      "_________________________________________________________________\n",
      "lstm_9 (LSTM)                (None, 100, 60)           26640     \n",
      "_________________________________________________________________\n",
      "dropout_9 (Dropout)          (None, 100, 60)           0         \n",
      "_________________________________________________________________\n",
      "lstm_10 (LSTM)               (None, 100, 80)           45120     \n",
      "_________________________________________________________________\n",
      "dropout_10 (Dropout)         (None, 100, 80)           0         \n",
      "_________________________________________________________________\n",
      "lstm_11 (LSTM)               (None, 120)               96480     \n",
      "_________________________________________________________________\n",
      "dropout_11 (Dropout)         (None, 120)               0         \n",
      "_________________________________________________________________\n",
      "dense_2 (Dense)              (None, 1)                 121       \n",
      "=================================================================\n",
      "Total params: 178,761\n",
      "Trainable params: 178,761\n",
      "Non-trainable params: 0\n",
      "_________________________________________________________________\n"
     ]
    }
   ],
   "source": [
    "model.summary()"
   ]
  },
  {
   "cell_type": "code",
   "execution_count": 57,
   "id": "178599fe",
   "metadata": {},
   "outputs": [
    {
     "name": "stdout",
     "output_type": "stream",
     "text": [
      "Epoch 1/50\n",
      "57/57 [==============================] - 15s 218ms/step - loss: 0.0024 - accuracy: 0.0011\n",
      "Epoch 2/50\n",
      "57/57 [==============================] - 11s 201ms/step - loss: 0.0024 - accuracy: 0.0011\n",
      "Epoch 3/50\n",
      "57/57 [==============================] - 10s 178ms/step - loss: 0.0022 - accuracy: 0.0011\n",
      "Epoch 4/50\n",
      "57/57 [==============================] - 15s 256ms/step - loss: 0.0024 - accuracy: 0.0011\n",
      "Epoch 5/50\n",
      "57/57 [==============================] - 11s 198ms/step - loss: 0.0020 - accuracy: 0.0011\n",
      "Epoch 6/50\n",
      "57/57 [==============================] - 12s 209ms/step - loss: 0.0024 - accuracy: 0.0011\n",
      "Epoch 7/50\n",
      "57/57 [==============================] - 10s 177ms/step - loss: 0.0021 - accuracy: 0.0011\n",
      "Epoch 8/50\n",
      "57/57 [==============================] - 13s 225ms/step - loss: 0.0022 - accuracy: 0.0011\n",
      "Epoch 9/50\n",
      "57/57 [==============================] - 12s 209ms/step - loss: 0.0023 - accuracy: 0.0011\n",
      "Epoch 10/50\n",
      "57/57 [==============================] - 13s 231ms/step - loss: 0.0019 - accuracy: 0.0011\n",
      "Epoch 11/50\n",
      "57/57 [==============================] - 15s 269ms/step - loss: 0.0022 - accuracy: 0.0011\n",
      "Epoch 12/50\n",
      "57/57 [==============================] - 13s 236ms/step - loss: 0.0021 - accuracy: 0.0011\n",
      "Epoch 13/50\n",
      "57/57 [==============================] - 12s 216ms/step - loss: 0.0020 - accuracy: 0.0011\n",
      "Epoch 14/50\n",
      "57/57 [==============================] - 13s 222ms/step - loss: 0.0021 - accuracy: 0.0011\n",
      "Epoch 15/50\n",
      "57/57 [==============================] - 11s 192ms/step - loss: 0.0020 - accuracy: 0.0011\n",
      "Epoch 16/50\n",
      "57/57 [==============================] - 11s 194ms/step - loss: 0.0021 - accuracy: 0.0011\n",
      "Epoch 17/50\n",
      "57/57 [==============================] - 12s 218ms/step - loss: 0.0019 - accuracy: 0.0011\n",
      "Epoch 18/50\n",
      "57/57 [==============================] - 13s 230ms/step - loss: 0.0022 - accuracy: 0.0011\n",
      "Epoch 19/50\n",
      "57/57 [==============================] - 11s 198ms/step - loss: 0.0019 - accuracy: 0.0011\n",
      "Epoch 20/50\n",
      "57/57 [==============================] - 11s 190ms/step - loss: 0.0021 - accuracy: 0.0011\n",
      "Epoch 21/50\n",
      "57/57 [==============================] - 11s 189ms/step - loss: 0.0021 - accuracy: 0.0011\n",
      "Epoch 22/50\n",
      "57/57 [==============================] - 11s 189ms/step - loss: 0.0021 - accuracy: 0.0011\n",
      "Epoch 23/50\n",
      "57/57 [==============================] - 11s 189ms/step - loss: 0.0020 - accuracy: 0.0011\n",
      "Epoch 24/50\n",
      "57/57 [==============================] - 14s 251ms/step - loss: 0.0021 - accuracy: 0.0011\n",
      "Epoch 25/50\n",
      "57/57 [==============================] - 11s 201ms/step - loss: 0.0020 - accuracy: 0.0011\n",
      "Epoch 26/50\n",
      "57/57 [==============================] - 16s 288ms/step - loss: 0.0019 - accuracy: 0.0011\n",
      "Epoch 27/50\n",
      "57/57 [==============================] - 10s 170ms/step - loss: 0.0018 - accuracy: 0.0011\n",
      "Epoch 28/50\n",
      "57/57 [==============================] - 11s 192ms/step - loss: 0.0020 - accuracy: 0.0011\n",
      "Epoch 29/50\n",
      "57/57 [==============================] - 11s 199ms/step - loss: 0.0019 - accuracy: 0.0011\n",
      "Epoch 30/50\n",
      "57/57 [==============================] - 10s 173ms/step - loss: 0.0018 - accuracy: 0.0011\n",
      "Epoch 31/50\n",
      "57/57 [==============================] - 10s 168ms/step - loss: 0.0021 - accuracy: 0.0011\n",
      "Epoch 32/50\n",
      "57/57 [==============================] - 12s 208ms/step - loss: 0.0019 - accuracy: 0.0011\n",
      "Epoch 33/50\n",
      "57/57 [==============================] - 12s 212ms/step - loss: 0.0020 - accuracy: 0.0011\n",
      "Epoch 34/50\n",
      "57/57 [==============================] - 14s 244ms/step - loss: 0.0020 - accuracy: 0.0011\n",
      "Epoch 35/50\n",
      "57/57 [==============================] - 10s 182ms/step - loss: 0.0018 - accuracy: 0.0011\n",
      "Epoch 36/50\n",
      "57/57 [==============================] - 10s 181ms/step - loss: 0.0019 - accuracy: 0.0011\n",
      "Epoch 37/50\n",
      "57/57 [==============================] - 10s 181ms/step - loss: 0.0019 - accuracy: 0.0011\n",
      "Epoch 38/50\n",
      "57/57 [==============================] - 10s 181ms/step - loss: 0.0017 - accuracy: 0.0011\n",
      "Epoch 39/50\n",
      "57/57 [==============================] - 12s 209ms/step - loss: 0.0019 - accuracy: 0.0011\n",
      "Epoch 40/50\n",
      "57/57 [==============================] - 11s 196ms/step - loss: 0.0019 - accuracy: 0.0011\n",
      "Epoch 41/50\n",
      "57/57 [==============================] - 12s 215ms/step - loss: 0.0018 - accuracy: 0.0011s - loss: 0.0018 - ac\n",
      "Epoch 42/50\n",
      "57/57 [==============================] - 17s 298ms/step - loss: 0.0018 - accuracy: 0.0011\n",
      "Epoch 43/50\n",
      "57/57 [==============================] - 13s 225ms/step - loss: 0.0020 - accuracy: 0.0011\n",
      "Epoch 44/50\n",
      "57/57 [==============================] - 14s 247ms/step - loss: 0.0019 - accuracy: 0.0011\n",
      "Epoch 45/50\n",
      "57/57 [==============================] - 11s 185ms/step - loss: 0.0017 - accuracy: 0.0011\n",
      "Epoch 46/50\n",
      "57/57 [==============================] - 10s 176ms/step - loss: 0.0020 - accuracy: 0.0011\n",
      "Epoch 47/50\n",
      "57/57 [==============================] - 10s 171ms/step - loss: 0.0020 - accuracy: 0.0011\n",
      "Epoch 48/50\n",
      "57/57 [==============================] - 10s 170ms/step - loss: 0.0019 - accuracy: 0.0011\n",
      "Epoch 49/50\n",
      "57/57 [==============================] - 12s 217ms/step - loss: 0.0019 - accuracy: 0.0011\n",
      "Epoch 50/50\n",
      "57/57 [==============================] - 11s 184ms/step - loss: 0.0019 - accuracy: 0.0011\n"
     ]
    },
    {
     "data": {
      "text/plain": [
       "<keras.callbacks.History at 0x7f36fbbc9f70>"
      ]
     },
     "execution_count": 57,
     "metadata": {},
     "output_type": "execute_result"
    }
   ],
   "source": [
    "model.compile(optimizer = 'adam', loss = 'mean_squared_error', metrics=['accuracy'] )\n",
    "model.fit(x_train, y_train, epochs = 50)"
   ]
  },
  {
   "cell_type": "code",
   "execution_count": null,
   "id": "d2b0e739",
   "metadata": {},
   "outputs": [],
   "source": [
    "model.save('keras_model.h5')"
   ]
  },
  {
   "cell_type": "code",
   "execution_count": null,
   "id": "81ec751b",
   "metadata": {},
   "outputs": [],
   "source": [
    "data_testing.head()"
   ]
  },
  {
   "cell_type": "code",
   "execution_count": null,
   "id": "4b4f703e",
   "metadata": {},
   "outputs": [],
   "source": [
    "data_training.tail()"
   ]
  },
  {
   "cell_type": "code",
   "execution_count": null,
   "id": "031e0465",
   "metadata": {},
   "outputs": [],
   "source": [
    "past_100_days = data_training.tail(100)\n",
    "\n",
    "final_df = past_100_days.append(data_testing, ignotr_index=True)"
   ]
  },
  {
   "cell_type": "code",
   "execution_count": null,
   "id": "d0c34124",
   "metadata": {},
   "outputs": [],
   "source": [
    "final_df.head()\n",
    "\n",
    "input_data = scaler.it_transform(final_df)"
   ]
  },
  {
   "cell_type": "code",
   "execution_count": null,
   "id": "34a08756",
   "metadata": {},
   "outputs": [],
   "source": [
    "input_data.shape"
   ]
  },
  {
   "cell_type": "code",
   "execution_count": null,
   "id": "604f5c62",
   "metadata": {},
   "outputs": [],
   "source": [
    "x_test = []\n",
    "y_test=[]\n",
    "\n",
    "for i in range(100, input_data.shape[0]):\n",
    "    x_test.append(input_data[i-100: i])\n",
    "    y_test.append(input_data[i, 0])"
   ]
  },
  {
   "cell_type": "code",
   "execution_count": null,
   "id": "e001db7b",
   "metadata": {},
   "outputs": [],
   "source": [
    "x_test, y_test = np.array(x_test), np.array(y_test)\n",
    "\n",
    "print(x_test.shape)\n",
    "print(y_test.shape)"
   ]
  },
  {
   "cell_type": "code",
   "execution_count": null,
   "id": "ed1a469d",
   "metadata": {},
   "outputs": [],
   "source": [
    "y_predicted = model.predict(x_test)\n",
    "\n",
    "y_predicted.shape"
   ]
  },
  {
   "cell_type": "code",
   "execution_count": null,
   "id": "5762f586",
   "metadata": {},
   "outputs": [],
   "source": [
    "y_test"
   ]
  },
  {
   "cell_type": "code",
   "execution_count": null,
   "id": "de3eb779",
   "metadata": {},
   "outputs": [],
   "source": [
    "y_predicted"
   ]
  },
  {
   "cell_type": "code",
   "execution_count": 58,
   "id": "5d739c7b",
   "metadata": {},
   "outputs": [
    {
     "data": {
      "text/plain": [
       "array([0.00825474])"
      ]
     },
     "execution_count": 58,
     "metadata": {},
     "output_type": "execute_result"
    }
   ],
   "source": [
    "scaler.scale_"
   ]
  },
  {
   "cell_type": "code",
   "execution_count": 59,
   "id": "35f63d21",
   "metadata": {},
   "outputs": [],
   "source": [
    "scale_factor = 1/0.00825474\n",
    "y_predicted = y_predicted * scale_factor\n",
    "y_test = y_test * scale_factor"
   ]
  },
  {
   "cell_type": "code",
   "execution_count": 63,
   "id": "a176c07f",
   "metadata": {},
   "outputs": [
    {
     "data": {
      "text/plain": [
       "<function matplotlib.pyplot.show(close=None, block=None)>"
      ]
     },
     "execution_count": 63,
     "metadata": {},
     "output_type": "execute_result"
    },
    {
     "data": {
      "image/png": "[encoded data removed]",
      "text/plain": [
       "<Figure size 864x432 with 1 Axes>"
      ]
     },
     "metadata": {
      "needs_background": "light"
     },
     "output_type": "display_data"
    }
   ],
   "source": [
    "plt.figure(figsize=(12,6))\n",
    "plt.plot(y_test, 'b', label = 'Original Price')\n",
    "plt.plot(y_predicted, 'r', label = 'Predicted Price')\n",
    "plt.xlabel('Time')\n",
    "plt.ylabel('Price')\n",
    "plt.legend()\n",
    "plt.show"
   ]
  },
  {
   "cell_type": "code",
   "execution_count": null,
   "id": "e0a04776",
   "metadata": {},
   "outputs": [],
   "source": []
  },
  {
   "cell_type": "code",
   "execution_count": null,
   "id": "e5bb7db8",
   "metadata": {},
   "outputs": [],
   "source": []
  },
  {
   "cell_type": "code",
   "execution_count": null,
   "id": "7833f6d7",
   "metadata": {},
   "outputs": [],
   "source": []
  },
  {
   "cell_type": "code",
   "execution_count": null,
   "id": "fa99fe9a",
   "metadata": {},
   "outputs": [],
   "source": []
  },
  {
   "cell_type": "code",
   "execution_count": null,
   "id": "e66fed61",
   "metadata": {},
   "outputs": [],
   "source": []
  },
  {
   "cell_type": "code",
   "execution_count": null,
   "id": "1d0f5948",
   "metadata": {},
   "outputs": [],
   "source": []
  },
  {
   "cell_type": "code",
   "execution_count": null,
   "id": "65132943",
   "metadata": {},
   "outputs": [],
   "source": []
  }
 ],
 "metadata": {
  "kernelspec": {
   "display_name": "Python 3",
   "language": "python",
   "name": "python3"
  },
  "language_info": {
   "codemirror_mode": {
    "name": "ipython",
    "version": 3
   },
   "file_extension": ".py",
   "mimetype": "text/x-python",
   "name": "python",
   "nbconvert_exporter": "python",
   "pygments_lexer": "ipython3",
   "version": "3.8.8"
  }
 },
 "nbformat": 4,
 "nbformat_minor": 5
}
